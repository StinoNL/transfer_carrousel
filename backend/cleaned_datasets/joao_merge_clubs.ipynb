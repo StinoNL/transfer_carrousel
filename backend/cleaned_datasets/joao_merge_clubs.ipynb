{
 "cells": [
  {
   "cell_type": "code",
   "execution_count": 5,
   "id": "9ba8f767-c47c-4a25-b964-a6d1ec2313e3",
   "metadata": {},
   "outputs": [
    {
     "data": {
      "text/html": [
       "<div>\n",
       "<style scoped>\n",
       "    .dataframe tbody tr th:only-of-type {\n",
       "        vertical-align: middle;\n",
       "    }\n",
       "\n",
       "    .dataframe tbody tr th {\n",
       "        vertical-align: top;\n",
       "    }\n",
       "\n",
       "    .dataframe thead th {\n",
       "        text-align: right;\n",
       "    }\n",
       "</style>\n",
       "<table border=\"1\" class=\"dataframe\">\n",
       "  <thead>\n",
       "    <tr style=\"text-align: right;\">\n",
       "      <th></th>\n",
       "      <th>club_id</th>\n",
       "      <th>club_code</th>\n",
       "      <th>name</th>\n",
       "      <th>domestic_competition_id</th>\n",
       "      <th>last_season</th>\n",
       "    </tr>\n",
       "  </thead>\n",
       "  <tbody>\n",
       "    <tr>\n",
       "      <th>0</th>\n",
       "      <td>105</td>\n",
       "      <td>sv-darmstadt-98</td>\n",
       "      <td>Sv Darmstadt 98</td>\n",
       "      <td>L1</td>\n",
       "      <td>2023</td>\n",
       "    </tr>\n",
       "    <tr>\n",
       "      <th>1</th>\n",
       "      <td>11127</td>\n",
       "      <td>ural-ekaterinburg</td>\n",
       "      <td>Ural Yekaterinburg</td>\n",
       "      <td>RU1</td>\n",
       "      <td>2023</td>\n",
       "    </tr>\n",
       "    <tr>\n",
       "      <th>2</th>\n",
       "      <td>114</td>\n",
       "      <td>besiktas-istanbul</td>\n",
       "      <td>Beşiktaş Jimnastik Kulübü</td>\n",
       "      <td>TR1</td>\n",
       "      <td>2024</td>\n",
       "    </tr>\n",
       "    <tr>\n",
       "      <th>3</th>\n",
       "      <td>12</td>\n",
       "      <td>as-rom</td>\n",
       "      <td>Associazione Sportiva Roma</td>\n",
       "      <td>IT1</td>\n",
       "      <td>2024</td>\n",
       "    </tr>\n",
       "    <tr>\n",
       "      <th>4</th>\n",
       "      <td>148</td>\n",
       "      <td>tottenham-hotspur</td>\n",
       "      <td>Tottenham Hotspur Football Club</td>\n",
       "      <td>GB1</td>\n",
       "      <td>2024</td>\n",
       "    </tr>\n",
       "  </tbody>\n",
       "</table>\n",
       "</div>"
      ],
      "text/plain": [
       "   club_id          club_code                             name  \\\n",
       "0      105    sv-darmstadt-98                  Sv Darmstadt 98   \n",
       "1    11127  ural-ekaterinburg               Ural Yekaterinburg   \n",
       "2      114  besiktas-istanbul        Beşiktaş Jimnastik Kulübü   \n",
       "3       12             as-rom       Associazione Sportiva Roma   \n",
       "4      148  tottenham-hotspur  Tottenham Hotspur Football Club   \n",
       "\n",
       "  domestic_competition_id  last_season  \n",
       "0                      L1         2023  \n",
       "1                     RU1         2023  \n",
       "2                     TR1         2024  \n",
       "3                     IT1         2024  \n",
       "4                     GB1         2024  "
      ]
     },
     "execution_count": 5,
     "metadata": {},
     "output_type": "execute_result"
    }
   ],
   "source": [
    "import pandas as pd\n",
    "import os\n",
    "\n",
    "# Load the dataset\n",
    "df_clubs = pd.read_csv(\"clean_data/j_clean_clubs.csv\")\n",
    "\n",
    "# Show first rows\n",
    "df_clubs.head()"
   ]
  },
  {
   "cell_type": "code",
   "execution_count": 6,
   "id": "c723f969-1847-4776-9ed1-12c652359532",
   "metadata": {},
   "outputs": [
    {
     "data": {
      "text/html": [
       "<div>\n",
       "<style scoped>\n",
       "    .dataframe tbody tr th:only-of-type {\n",
       "        vertical-align: middle;\n",
       "    }\n",
       "\n",
       "    .dataframe tbody tr th {\n",
       "        vertical-align: top;\n",
       "    }\n",
       "\n",
       "    .dataframe thead th {\n",
       "        text-align: right;\n",
       "    }\n",
       "</style>\n",
       "<table border=\"1\" class=\"dataframe\">\n",
       "  <thead>\n",
       "    <tr style=\"text-align: right;\">\n",
       "      <th></th>\n",
       "      <th>club_id</th>\n",
       "      <th>name</th>\n",
       "    </tr>\n",
       "  </thead>\n",
       "  <tbody>\n",
       "    <tr>\n",
       "      <th>0</th>\n",
       "      <td>105</td>\n",
       "      <td>Sv Darmstadt 98</td>\n",
       "    </tr>\n",
       "    <tr>\n",
       "      <th>1</th>\n",
       "      <td>11127</td>\n",
       "      <td>Ural Yekaterinburg</td>\n",
       "    </tr>\n",
       "    <tr>\n",
       "      <th>2</th>\n",
       "      <td>114</td>\n",
       "      <td>Beşiktaş Jimnastik Kulübü</td>\n",
       "    </tr>\n",
       "    <tr>\n",
       "      <th>3</th>\n",
       "      <td>12</td>\n",
       "      <td>Associazione Sportiva Roma</td>\n",
       "    </tr>\n",
       "    <tr>\n",
       "      <th>4</th>\n",
       "      <td>148</td>\n",
       "      <td>Tottenham Hotspur Football Club</td>\n",
       "    </tr>\n",
       "  </tbody>\n",
       "</table>\n",
       "</div>"
      ],
      "text/plain": [
       "   club_id                             name\n",
       "0      105                  Sv Darmstadt 98\n",
       "1    11127               Ural Yekaterinburg\n",
       "2      114        Beşiktaş Jimnastik Kulübü\n",
       "3       12       Associazione Sportiva Roma\n",
       "4      148  Tottenham Hotspur Football Club"
      ]
     },
     "execution_count": 6,
     "metadata": {},
     "output_type": "execute_result"
    }
   ],
   "source": [
    "# drop unnecessary columns\n",
    "df_filtered_clubs = df_clubs.drop(['club_code', 'domestic_competition_id', 'last_season'], axis=1)\n",
    "\n",
    "df_filtered_clubs.head()"
   ]
  },
  {
   "cell_type": "code",
   "execution_count": 7,
   "id": "63f55caf-dad7-4b92-97c0-0ada1616ad35",
   "metadata": {},
   "outputs": [],
   "source": [
    "import os\n",
    "\n",
    "# create the directory\n",
    "os.makedirs(\"to_merge_data\", exist_ok=True)"
   ]
  },
  {
   "cell_type": "code",
   "execution_count": 8,
   "id": "08eb5417-80eb-40e6-94f4-736ca86fbc3a",
   "metadata": {},
   "outputs": [],
   "source": [
    "df_filtered_clubs.to_csv(\"to_merge_data/filtered_clubs.csv\", index=False)"
   ]
  }
 ],
 "metadata": {
  "kernelspec": {
   "display_name": "transfer_carrousel",
   "language": "python",
   "name": "python3"
  },
  "language_info": {
   "codemirror_mode": {
    "name": "ipython",
    "version": 3
   },
   "file_extension": ".py",
   "mimetype": "text/x-python",
   "name": "python",
   "nbconvert_exporter": "python",
   "pygments_lexer": "ipython3",
   "version": "3.10.6"
  }
 },
 "nbformat": 4,
 "nbformat_minor": 5
}
